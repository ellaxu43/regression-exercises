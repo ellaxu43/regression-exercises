{
 "cells": [
  {
   "cell_type": "code",
   "execution_count": 12,
   "id": "bde9a0f2",
   "metadata": {},
   "outputs": [],
   "source": [
    "#math and statistics.\n",
    "from scipy import stats\n",
    "import statistics\n",
    "import math\n",
    "\n",
    "#impot matplot and seaborn for viz.\n",
    "import matplotlib.pyplot as plt\n",
    "import seaborn as sns\n",
    "\n",
    "#numpy and pandas library\n",
    "import numpy as np\n",
    "import pandas as pd\n",
    "\n",
    "\n",
    "import env\n",
    "import dataprep\n",
    "\n",
    "\n",
    "from sklearn.neighbors import KNeighborsClassifier\n",
    "from sklearn.preprocessing import MinMaxScaler, StandardScaler, RobustScaler\n",
    "\n",
    "import warnings \n",
    "warnings.filterwarnings(\"ignore\")\n"
   ]
  },
  {
   "cell_type": "code",
   "execution_count": 2,
   "id": "26b7c577",
   "metadata": {},
   "outputs": [
    {
     "name": "stdout",
     "output_type": "stream",
     "text": [
      "Using cached csv\n"
     ]
    }
   ],
   "source": [
    "train, validate, test = dataprep.wrangle_zillow()"
   ]
  },
  {
   "cell_type": "code",
   "execution_count": 3,
   "id": "07023833",
   "metadata": {},
   "outputs": [
    {
     "data": {
      "text/html": [
       "<div>\n",
       "<style scoped>\n",
       "    .dataframe tbody tr th:only-of-type {\n",
       "        vertical-align: middle;\n",
       "    }\n",
       "\n",
       "    .dataframe tbody tr th {\n",
       "        vertical-align: top;\n",
       "    }\n",
       "\n",
       "    .dataframe thead th {\n",
       "        text-align: right;\n",
       "    }\n",
       "</style>\n",
       "<table border=\"1\" class=\"dataframe\">\n",
       "  <thead>\n",
       "    <tr style=\"text-align: right;\">\n",
       "      <th></th>\n",
       "      <th>bedrooms</th>\n",
       "      <th>bathrooms</th>\n",
       "      <th>area</th>\n",
       "      <th>tax_value</th>\n",
       "      <th>year_built</th>\n",
       "      <th>taxamount</th>\n",
       "      <th>fips</th>\n",
       "    </tr>\n",
       "  </thead>\n",
       "  <tbody>\n",
       "    <tr>\n",
       "      <th>10057</th>\n",
       "      <td>4.0</td>\n",
       "      <td>2.0</td>\n",
       "      <td>1561.0</td>\n",
       "      <td>248240.0</td>\n",
       "      <td>1973.0</td>\n",
       "      <td>2504.40</td>\n",
       "      <td>6059.0</td>\n",
       "    </tr>\n",
       "    <tr>\n",
       "      <th>2004970</th>\n",
       "      <td>3.0</td>\n",
       "      <td>2.0</td>\n",
       "      <td>1770.0</td>\n",
       "      <td>88390.0</td>\n",
       "      <td>1960.0</td>\n",
       "      <td>1671.93</td>\n",
       "      <td>6037.0</td>\n",
       "    </tr>\n",
       "    <tr>\n",
       "      <th>306031</th>\n",
       "      <td>2.0</td>\n",
       "      <td>1.0</td>\n",
       "      <td>1452.0</td>\n",
       "      <td>81169.0</td>\n",
       "      <td>1946.0</td>\n",
       "      <td>1310.88</td>\n",
       "      <td>6037.0</td>\n",
       "    </tr>\n",
       "    <tr>\n",
       "      <th>1038595</th>\n",
       "      <td>3.0</td>\n",
       "      <td>1.0</td>\n",
       "      <td>1000.0</td>\n",
       "      <td>119174.0</td>\n",
       "      <td>1950.0</td>\n",
       "      <td>1900.28</td>\n",
       "      <td>6037.0</td>\n",
       "    </tr>\n",
       "    <tr>\n",
       "      <th>270959</th>\n",
       "      <td>3.0</td>\n",
       "      <td>2.0</td>\n",
       "      <td>1974.0</td>\n",
       "      <td>432268.0</td>\n",
       "      <td>1988.0</td>\n",
       "      <td>5315.27</td>\n",
       "      <td>6037.0</td>\n",
       "    </tr>\n",
       "  </tbody>\n",
       "</table>\n",
       "</div>"
      ],
      "text/plain": [
       "         bedrooms  bathrooms    area  tax_value  year_built  taxamount    fips\n",
       "10057         4.0        2.0  1561.0   248240.0      1973.0    2504.40  6059.0\n",
       "2004970       3.0        2.0  1770.0    88390.0      1960.0    1671.93  6037.0\n",
       "306031        2.0        1.0  1452.0    81169.0      1946.0    1310.88  6037.0\n",
       "1038595       3.0        1.0  1000.0   119174.0      1950.0    1900.28  6037.0\n",
       "270959        3.0        2.0  1974.0   432268.0      1988.0    5315.27  6037.0"
      ]
     },
     "execution_count": 3,
     "metadata": {},
     "output_type": "execute_result"
    }
   ],
   "source": [
    "train.head()"
   ]
  },
  {
   "cell_type": "markdown",
   "id": "08cb9023",
   "metadata": {},
   "source": [
    "# Scaling\n",
    "Scaling changes the range of features in our dataset.\n",
    "\n",
    "1. tldr\n",
    "\n",
    "Use a min-max scaler before you do modeling.\n",
    "Generally prefer unscaled data, except in modeling.\n",
    "Learn parameters for scaling from the training split.\n",
    "\n",
    "2. Scaling - when, where, what, why, and how\n",
    "\n",
    "### why\n",
    "some model types can be thrown off by different feature scales\n",
    "improves most model's implementation\n",
    "visualize the combination of 2 variables with different scales\n",
    "a better interpretation of the data (e.g. log scaling)\n",
    "combining features\n",
    "### when\n",
    "data prep / exploration\n",
    "pipeline: prep\n",
    "lifecycle: prep/exploration\n",
    "when one of the conditions above is met. Otherwise, it's better to work with the original units\n",
    "\n",
    "### where\n",
    "the training dataset\n",
    "usually just the independent variables\n",
    "indep vars are scaled independently, i.e. the scaling of one feature doesn't affect the scaling of another\n",
    "scale whatever goes into the model\n",
    "### how\n",
    "sklearn.preprocessing -- requires 2d array\n",
    "make the thing, fit the thing, use the thing\n",
    ".fit to learn parameters, .transform to apply the scaling\n",
    "seperate scaled dataframes and/or columns"
   ]
  },
  {
   "cell_type": "markdown",
   "id": "dee4a4d8",
   "metadata": {},
   "source": [
    "### Linear Scaling\n",
    "Units are changed, but the distance between points is preserved.\n",
    "\n",
    "MinMax: everything between 0 and 1\n",
    "\n",
    "Standard: a zscore, standard deviations from the mean, center + scale\n",
    "\n",
    "    centering: subtracting the mean\n",
    "    scaling: dividing by the standard deviation\n",
    "\n",
    "\n",
    "Robust: robust to and preserves outliers\n",
    "\n"
   ]
  },
  {
   "cell_type": "markdown",
   "id": "128b7a65",
   "metadata": {},
   "source": [
    "## 1. Apply the scalers we talked about in this lesson to your data and visualize the results for the unscaled and scaled distribution .\n"
   ]
  },
  {
   "cell_type": "code",
   "execution_count": 5,
   "id": "4a82c72d",
   "metadata": {},
   "outputs": [
    {
     "name": "stdout",
     "output_type": "stream",
     "text": [
      "<class 'pandas.core.frame.DataFrame'>\n",
      "Int64Index: 1038959 entries, 10057 to 843328\n",
      "Data columns (total 7 columns):\n",
      " #   Column      Non-Null Count    Dtype  \n",
      "---  ------      --------------    -----  \n",
      " 0   bedrooms    1038959 non-null  float64\n",
      " 1   bathrooms   1038959 non-null  float64\n",
      " 2   area        1038959 non-null  float64\n",
      " 3   tax_value   1038959 non-null  float64\n",
      " 4   year_built  1038959 non-null  float64\n",
      " 5   taxamount   1038959 non-null  float64\n",
      " 6   fips        1038959 non-null  object \n",
      "dtypes: float64(6), object(1)\n",
      "memory usage: 63.4+ MB\n"
     ]
    }
   ],
   "source": [
    "train.info()"
   ]
  },
  {
   "cell_type": "markdown",
   "id": "162547e7",
   "metadata": {},
   "source": [
    "### Scaler year_built and tax_value"
   ]
  },
  {
   "cell_type": "code",
   "execution_count": 11,
   "id": "793065c5",
   "metadata": {},
   "outputs": [
    {
     "data": {
      "text/plain": [
       "<matplotlib.collections.PathCollection at 0x7fdd9f2cdaf0>"
      ]
     },
     "execution_count": 11,
     "metadata": {},
     "output_type": "execute_result"
    },
    {
     "data": {
      "image/png": "[encoded data removed]",
      "text/plain": [
       "<Figure size 432x288 with 1 Axes>"
      ]
     },
     "metadata": {
      "needs_background": "light"
     },
     "output_type": "display_data"
    }
   ],
   "source": [
    "plt.scatter(train.year_built, train.tax_value)"
   ]
  },
  {
   "cell_type": "code",
   "execution_count": 15,
   "id": "0665332a",
   "metadata": {},
   "outputs": [],
   "source": [
    "subset = train"
   ]
  },
  {
   "cell_type": "code",
   "execution_count": 16,
   "id": "8ea719c4",
   "metadata": {},
   "outputs": [],
   "source": [
    "scaler = MinMaxScaler()\n",
    "subset[['x1_minmax', 'x2_minmax']] = scaler.fit_transform(train[['year_built', 'tax_value']])\n"
   ]
  },
  {
   "cell_type": "code",
   "execution_count": 17,
   "id": "530a4d51",
   "metadata": {},
   "outputs": [
    {
     "data": {
      "text/plain": [
       "<matplotlib.collections.PathCollection at 0x7fdda05897f0>"
      ]
     },
     "execution_count": 17,
     "metadata": {},
     "output_type": "execute_result"
    },
    {
     "data": {
      "image/png": "[encoded data removed]",
      "text/plain": [
       "<Figure size 432x288 with 1 Axes>"
      ]
     },
     "metadata": {
      "needs_background": "light"
     },
     "output_type": "display_data"
    }
   ],
   "source": [
    "plt.scatter(subset.x1_minmax, subset.x2_minmax)"
   ]
  },
  {
   "cell_type": "markdown",
   "id": "baa563a8",
   "metadata": {},
   "source": [
    "### Scale the bedroom count and bathroom count"
   ]
  },
  {
   "cell_type": "markdown",
   "id": "336c26ad",
   "metadata": {},
   "source": [
    "Non-linear Scaling\n",
    "The distance between points is not preserved, but order is\n",
    "Not as common as linear scalers\n",
    "In sklearn: power transformation: box-cox, yeo-johnson; quantile transformation\n",
    "Log"
   ]
  },
  {
   "cell_type": "code",
   "execution_count": 22,
   "id": "2a7f47ab",
   "metadata": {},
   "outputs": [
    {
     "data": {
      "text/plain": [
       "<matplotlib.collections.PathCollection at 0x7fdda8e6d9d0>"
      ]
     },
     "execution_count": 22,
     "metadata": {},
     "output_type": "execute_result"
    },
    {
     "data": {
      "image/png": "[encoded data removed]",
      "text/plain": [
       "<Figure size 720x360 with 1 Axes>"
      ]
     },
     "metadata": {
      "needs_background": "light"
     },
     "output_type": "display_data"
    }
   ],
   "source": [
    "\n",
    "fig, ax = plt.subplots(figsize=(10, 5))\n",
    "ax.scatter(train.bedrooms, train.bathrooms)\n",
    "#ax.set_yscale('log')\n"
   ]
  },
  {
   "cell_type": "code",
   "execution_count": 23,
   "id": "37708666",
   "metadata": {},
   "outputs": [
    {
     "data": {
      "image/png": "[encoded data removed]",
      "text/plain": [
       "<Figure size 720x360 with 1 Axes>"
      ]
     },
     "metadata": {
      "needs_background": "light"
     },
     "output_type": "display_data"
    }
   ],
   "source": [
    "\n",
    "fig, ax = plt.subplots(figsize=(10, 5))\n",
    "ax.scatter(train.bedrooms, train.bathrooms)\n",
    "ax.set_yscale('log')"
   ]
  },
  {
   "cell_type": "code",
   "execution_count": 24,
   "id": "4c5e5532",
   "metadata": {},
   "outputs": [
    {
     "data": {
      "text/plain": [
       "<AxesSubplot:ylabel='Frequency'>"
      ]
     },
     "execution_count": 24,
     "metadata": {},
     "output_type": "execute_result"
    },
    {
     "data": {
      "image/png": "[encoded data removed]",
      "text/plain": [
       "<Figure size 432x288 with 1 Axes>"
      ]
     },
     "metadata": {
      "needs_background": "light"
     },
     "output_type": "display_data"
    }
   ],
   "source": [
    "train.bedrooms.plot.hist()"
   ]
  },
  {
   "cell_type": "code",
   "execution_count": 25,
   "id": "368a467a",
   "metadata": {},
   "outputs": [
    {
     "data": {
      "text/plain": [
       "(array([179630.,      0.,      0.,      0., 507250.,      0.,      0.,\n",
       "        302187.,      0.,  49892.]),\n",
       " array([0.69314718, 0.78477625, 0.87640533, 0.9680344 , 1.05966347,\n",
       "        1.15129255, 1.24292162, 1.33455069, 1.42617977, 1.51780884,\n",
       "        1.60943791]),\n",
       " <BarContainer object of 10 artists>)"
      ]
     },
     "execution_count": 25,
     "metadata": {},
     "output_type": "execute_result"
    },
    {
     "data": {
      "image/png": "[encoded data removed]",
      "text/plain": [
       "<Figure size 432x288 with 1 Axes>"
      ]
     },
     "metadata": {
      "needs_background": "light"
     },
     "output_type": "display_data"
    }
   ],
   "source": [
    "plt.hist(np.log(train.bedrooms))"
   ]
  },
  {
   "cell_type": "code",
   "execution_count": 52,
   "id": "7072eacb",
   "metadata": {},
   "outputs": [],
   "source": [
    "def visualize_scaler(scaler, df, target_columns, bins=10):\n",
    "    fig, axs = plt.subplots(len(target_columns), 2, figsize=(16, 9))\n",
    "    df_scaled = df.copy()\n",
    "    df_scaled[target_columns] = scaler.fit_transform(df[target_columns])\n",
    "    for (ax1, ax2), col in zip(axs, target_columns):\n",
    "        ax1.hist(df[col], bins=bins)\n",
    "        ax1.set(title=f'{col} before scaling', xlabel=col, ylabel='count')\n",
    "        ax2.hist(df_scaled[col], bins=bins)\n",
    "        ax2.set(title=f'{col} after scaling with {scaler.__class__.__name__}', xlabel=col, ylabel='count')\n",
    "    plt.tight_layout()\n",
    "    return fig, axs"
   ]
  },
  {
   "cell_type": "code",
   "execution_count": 53,
   "id": "3379a3c0",
   "metadata": {},
   "outputs": [
    {
     "data": {
      "text/plain": [
       "(<Figure size 1152x648 with 6 Axes>,\n",
       " array([[<AxesSubplot:title={'center':'bedrooms before scaling'}, xlabel='bedrooms', ylabel='count'>,\n",
       "         <AxesSubplot:title={'center':'bedrooms after scaling with MinMaxScaler'}, xlabel='bedrooms', ylabel='count'>],\n",
       "        [<AxesSubplot:title={'center':'area before scaling'}, xlabel='area', ylabel='count'>,\n",
       "         <AxesSubplot:title={'center':'area after scaling with MinMaxScaler'}, xlabel='area', ylabel='count'>],\n",
       "        [<AxesSubplot:title={'center':'tax_value before scaling'}, xlabel='tax_value', ylabel='count'>,\n",
       "         <AxesSubplot:title={'center':'tax_value after scaling with MinMaxScaler'}, xlabel='tax_value', ylabel='count'>]],\n",
       "       dtype=object))"
      ]
     },
     "execution_count": 53,
     "metadata": {},
     "output_type": "execute_result"
    },
    {
     "data": {
      "image/png": "[encoded data removed]",
      "text/plain": [
       "<Figure size 1152x648 with 6 Axes>"
      ]
     },
     "metadata": {
      "needs_background": "light"
     },
     "output_type": "display_data"
    }
   ],
   "source": [
    "visualize_scaler(\n",
    "    scaler=MinMaxScaler(),\n",
    "    df=train,\n",
    "    target_columns=['bedrooms', 'area', 'tax_value'],\n",
    ")"
   ]
  },
  {
   "cell_type": "markdown",
   "id": "6ac2ecfe",
   "metadata": {},
   "source": [
    "## 2. Apply the .inverse_transform method to your scaled data. Is the resulting dataset the exact same as the original data?"
   ]
  },
  {
   "cell_type": "code",
   "execution_count": 29,
   "id": "2ab4d477",
   "metadata": {},
   "outputs": [
    {
     "data": {
      "text/plain": [
       "array([[0.78921569, 0.26102987],\n",
       "       [0.7254902 , 0.09292915],\n",
       "       [0.65686275, 0.08533543],\n",
       "       ...,\n",
       "       [0.82352941, 0.16662635],\n",
       "       [0.70098039, 0.50177302],\n",
       "       [0.50980392, 0.30042338]])"
      ]
     },
     "execution_count": 29,
     "metadata": {},
     "output_type": "execute_result"
    }
   ],
   "source": [
    "scaler = MinMaxScaler()\n",
    "\n",
    "scaled = scaler.fit_transform(train[['year_built', 'tax_value']])\n",
    "scaled"
   ]
  },
  {
   "cell_type": "code",
   "execution_count": 30,
   "id": "67803d99",
   "metadata": {},
   "outputs": [
    {
     "data": {
      "text/html": [
       "<div>\n",
       "<style scoped>\n",
       "    .dataframe tbody tr th:only-of-type {\n",
       "        vertical-align: middle;\n",
       "    }\n",
       "\n",
       "    .dataframe tbody tr th {\n",
       "        vertical-align: top;\n",
       "    }\n",
       "\n",
       "    .dataframe thead th {\n",
       "        text-align: right;\n",
       "    }\n",
       "</style>\n",
       "<table border=\"1\" class=\"dataframe\">\n",
       "  <thead>\n",
       "    <tr style=\"text-align: right;\">\n",
       "      <th></th>\n",
       "      <th>year_built</th>\n",
       "      <th>tax_value</th>\n",
       "    </tr>\n",
       "  </thead>\n",
       "  <tbody>\n",
       "    <tr>\n",
       "      <th>10057</th>\n",
       "      <td>0.789216</td>\n",
       "      <td>0.261030</td>\n",
       "    </tr>\n",
       "    <tr>\n",
       "      <th>2004970</th>\n",
       "      <td>0.725490</td>\n",
       "      <td>0.092929</td>\n",
       "    </tr>\n",
       "    <tr>\n",
       "      <th>306031</th>\n",
       "      <td>0.656863</td>\n",
       "      <td>0.085335</td>\n",
       "    </tr>\n",
       "    <tr>\n",
       "      <th>1038595</th>\n",
       "      <td>0.676471</td>\n",
       "      <td>0.125302</td>\n",
       "    </tr>\n",
       "    <tr>\n",
       "      <th>270959</th>\n",
       "      <td>0.862745</td>\n",
       "      <td>0.454557</td>\n",
       "    </tr>\n",
       "  </tbody>\n",
       "</table>\n",
       "</div>"
      ],
      "text/plain": [
       "         year_built  tax_value\n",
       "10057      0.789216   0.261030\n",
       "2004970    0.725490   0.092929\n",
       "306031     0.656863   0.085335\n",
       "1038595    0.676471   0.125302\n",
       "270959     0.862745   0.454557"
      ]
     },
     "execution_count": 30,
     "metadata": {},
     "output_type": "execute_result"
    }
   ],
   "source": [
    "scaled_df = pd.DataFrame(scaled, index = train.index, columns = ['year_built', 'tax_value'])\n",
    "scaled_df.head()"
   ]
  },
  {
   "cell_type": "code",
   "execution_count": 31,
   "id": "a3cffd9d",
   "metadata": {},
   "outputs": [
    {
     "data": {
      "text/plain": [
       "array([[  1973., 248240.],\n",
       "       [  1960.,  88390.],\n",
       "       [  1946.,  81169.],\n",
       "       ...,\n",
       "       [  1980., 158470.],\n",
       "       [  1955., 477167.],\n",
       "       [  1916., 285700.]])"
      ]
     },
     "execution_count": 31,
     "metadata": {},
     "output_type": "execute_result"
    }
   ],
   "source": [
    "\n",
    "scaler.inverse_transform(scaled_df)"
   ]
  },
  {
   "cell_type": "code",
   "execution_count": 34,
   "id": "170e8370",
   "metadata": {},
   "outputs": [
    {
     "data": {
      "text/html": [
       "<div>\n",
       "<style scoped>\n",
       "    .dataframe tbody tr th:only-of-type {\n",
       "        vertical-align: middle;\n",
       "    }\n",
       "\n",
       "    .dataframe tbody tr th {\n",
       "        vertical-align: top;\n",
       "    }\n",
       "\n",
       "    .dataframe thead th {\n",
       "        text-align: right;\n",
       "    }\n",
       "</style>\n",
       "<table border=\"1\" class=\"dataframe\">\n",
       "  <thead>\n",
       "    <tr style=\"text-align: right;\">\n",
       "      <th></th>\n",
       "      <th>year_built</th>\n",
       "      <th>tax_value</th>\n",
       "    </tr>\n",
       "  </thead>\n",
       "  <tbody>\n",
       "    <tr>\n",
       "      <th>10057</th>\n",
       "      <td>1973.0</td>\n",
       "      <td>248240.0</td>\n",
       "    </tr>\n",
       "    <tr>\n",
       "      <th>2004970</th>\n",
       "      <td>1960.0</td>\n",
       "      <td>88390.0</td>\n",
       "    </tr>\n",
       "    <tr>\n",
       "      <th>306031</th>\n",
       "      <td>1946.0</td>\n",
       "      <td>81169.0</td>\n",
       "    </tr>\n",
       "    <tr>\n",
       "      <th>1038595</th>\n",
       "      <td>1950.0</td>\n",
       "      <td>119174.0</td>\n",
       "    </tr>\n",
       "    <tr>\n",
       "      <th>270959</th>\n",
       "      <td>1988.0</td>\n",
       "      <td>432268.0</td>\n",
       "    </tr>\n",
       "  </tbody>\n",
       "</table>\n",
       "</div>"
      ],
      "text/plain": [
       "         year_built  tax_value\n",
       "10057        1973.0   248240.0\n",
       "2004970      1960.0    88390.0\n",
       "306031       1946.0    81169.0\n",
       "1038595      1950.0   119174.0\n",
       "270959       1988.0   432268.0"
      ]
     },
     "execution_count": 34,
     "metadata": {},
     "output_type": "execute_result"
    }
   ],
   "source": [
    "# we can change numpy 2d array to a dataframe\n",
    "\n",
    "unscaled_df = pd.DataFrame(scaler.inverse_transform(scaled), index = train.index, columns = \n",
    "                           ['year_built', 'tax_value'])\n",
    "unscaled_df.head()"
   ]
  },
  {
   "cell_type": "code",
   "execution_count": 35,
   "id": "0ac277f7",
   "metadata": {},
   "outputs": [
    {
     "data": {
      "text/html": [
       "<div>\n",
       "<style scoped>\n",
       "    .dataframe tbody tr th:only-of-type {\n",
       "        vertical-align: middle;\n",
       "    }\n",
       "\n",
       "    .dataframe tbody tr th {\n",
       "        vertical-align: top;\n",
       "    }\n",
       "\n",
       "    .dataframe thead th {\n",
       "        text-align: right;\n",
       "    }\n",
       "</style>\n",
       "<table border=\"1\" class=\"dataframe\">\n",
       "  <thead>\n",
       "    <tr style=\"text-align: right;\">\n",
       "      <th></th>\n",
       "      <th>year_built</th>\n",
       "      <th>tax_value</th>\n",
       "    </tr>\n",
       "  </thead>\n",
       "  <tbody>\n",
       "    <tr>\n",
       "      <th>10057</th>\n",
       "      <td>1973.0</td>\n",
       "      <td>248240.0</td>\n",
       "    </tr>\n",
       "    <tr>\n",
       "      <th>2004970</th>\n",
       "      <td>1960.0</td>\n",
       "      <td>88390.0</td>\n",
       "    </tr>\n",
       "    <tr>\n",
       "      <th>306031</th>\n",
       "      <td>1946.0</td>\n",
       "      <td>81169.0</td>\n",
       "    </tr>\n",
       "    <tr>\n",
       "      <th>1038595</th>\n",
       "      <td>1950.0</td>\n",
       "      <td>119174.0</td>\n",
       "    </tr>\n",
       "    <tr>\n",
       "      <th>270959</th>\n",
       "      <td>1988.0</td>\n",
       "      <td>432268.0</td>\n",
       "    </tr>\n",
       "    <tr>\n",
       "      <th>...</th>\n",
       "      <td>...</td>\n",
       "      <td>...</td>\n",
       "    </tr>\n",
       "    <tr>\n",
       "      <th>991122</th>\n",
       "      <td>1951.0</td>\n",
       "      <td>280857.0</td>\n",
       "    </tr>\n",
       "    <tr>\n",
       "      <th>1707759</th>\n",
       "      <td>1961.0</td>\n",
       "      <td>95008.0</td>\n",
       "    </tr>\n",
       "    <tr>\n",
       "      <th>1770246</th>\n",
       "      <td>1980.0</td>\n",
       "      <td>158470.0</td>\n",
       "    </tr>\n",
       "    <tr>\n",
       "      <th>1500741</th>\n",
       "      <td>1955.0</td>\n",
       "      <td>477167.0</td>\n",
       "    </tr>\n",
       "    <tr>\n",
       "      <th>843328</th>\n",
       "      <td>1916.0</td>\n",
       "      <td>285700.0</td>\n",
       "    </tr>\n",
       "  </tbody>\n",
       "</table>\n",
       "<p>1038959 rows × 2 columns</p>\n",
       "</div>"
      ],
      "text/plain": [
       "         year_built  tax_value\n",
       "10057        1973.0   248240.0\n",
       "2004970      1960.0    88390.0\n",
       "306031       1946.0    81169.0\n",
       "1038595      1950.0   119174.0\n",
       "270959       1988.0   432268.0\n",
       "...             ...        ...\n",
       "991122       1951.0   280857.0\n",
       "1707759      1961.0    95008.0\n",
       "1770246      1980.0   158470.0\n",
       "1500741      1955.0   477167.0\n",
       "843328       1916.0   285700.0\n",
       "\n",
       "[1038959 rows x 2 columns]"
      ]
     },
     "execution_count": 35,
     "metadata": {},
     "output_type": "execute_result"
    }
   ],
   "source": [
    "train[['year_built', 'tax_value']]"
   ]
  },
  {
   "cell_type": "markdown",
   "id": "d82bc86c",
   "metadata": {},
   "source": [
    "## 3. Read the documentation for sklearn's QuantileTransformer. Use normal for the output_distribution and apply this scaler to your data. Visualize the result of your data scaling."
   ]
  },
  {
   "cell_type": "code",
   "execution_count": 38,
   "id": "af4ceb56",
   "metadata": {},
   "outputs": [],
   "source": [
    "\n",
    "from sklearn.preprocessing import QuantileTransformer"
   ]
  },
  {
   "cell_type": "code",
   "execution_count": 45,
   "id": "ce61146b",
   "metadata": {},
   "outputs": [
    {
     "data": {
      "image/png": "[encoded data removed]",
      "text/plain": [
       "<Figure size 432x288 with 1 Axes>"
      ]
     },
     "metadata": {
      "needs_background": "light"
     },
     "output_type": "display_data"
    }
   ],
   "source": [
    "plt.hist(train[['bedrooms']], bins=25)\n",
    "plt.show()"
   ]
  },
  {
   "cell_type": "code",
   "execution_count": 43,
   "id": "e17a2f53",
   "metadata": {},
   "outputs": [
    {
     "data": {
      "image/png": "[encoded data removed]",
      "text/plain": [
       "<Figure size 432x288 with 1 Axes>"
      ]
     },
     "metadata": {
      "needs_background": "light"
     },
     "output_type": "display_data"
    }
   ],
   "source": [
    "quantile = QuantileTransformer(output_distribution='normal')\n",
    "data_trans = quantile.fit_transform(train[['bedrooms']])\n",
    "# histogram of the transformed data\n",
    "plt.hist(data_trans, bins=25)\n",
    "plt.show()"
   ]
  },
  {
   "cell_type": "code",
   "execution_count": 46,
   "id": "5f26d7ef",
   "metadata": {},
   "outputs": [
    {
     "data": {
      "image/png": "[encoded data removed]",
      "text/plain": [
       "<Figure size 432x288 with 1 Axes>"
      ]
     },
     "metadata": {
      "needs_background": "light"
     },
     "output_type": "display_data"
    }
   ],
   "source": [
    "plt.hist(train[['year_built']], bins=25)\n",
    "plt.show()"
   ]
  },
  {
   "cell_type": "code",
   "execution_count": 47,
   "id": "f85ec011",
   "metadata": {},
   "outputs": [
    {
     "data": {
      "image/png": "[encoded data removed]",
      "text/plain": [
       "<Figure size 432x288 with 1 Axes>"
      ]
     },
     "metadata": {
      "needs_background": "light"
     },
     "output_type": "display_data"
    }
   ],
   "source": [
    "quantile = QuantileTransformer(output_distribution='normal')\n",
    "data_trans = quantile.fit_transform(train[['year_built']])\n",
    "# histogram of the transformed data\n",
    "plt.hist(data_trans, bins=25)\n",
    "plt.show()"
   ]
  },
  {
   "cell_type": "code",
   "execution_count": null,
   "id": "02b04bc3",
   "metadata": {},
   "outputs": [],
   "source": []
  },
  {
   "cell_type": "markdown",
   "id": "274dd13b",
   "metadata": {},
   "source": [
    "## 4. Use the QuantileTransformer, but omit the output_distribution argument. Visualize your results. What do you notice?"
   ]
  },
  {
   "cell_type": "code",
   "execution_count": 49,
   "id": "5d8a6a30",
   "metadata": {},
   "outputs": [
    {
     "data": {
      "image/png": "[encoded data removed]",
      "text/plain": [
       "<Figure size 432x288 with 1 Axes>"
      ]
     },
     "metadata": {
      "needs_background": "light"
     },
     "output_type": "display_data"
    }
   ],
   "source": [
    "quantile = QuantileTransformer()\n",
    "data_trans = quantile.fit_transform(train[['year_built']])\n",
    "# histogram of the transformed data\n",
    "plt.hist(data_trans, bins=25)\n",
    "plt.show()"
   ]
  },
  {
   "cell_type": "code",
   "execution_count": 50,
   "id": "18ea6a45",
   "metadata": {},
   "outputs": [],
   "source": [
    "# There is no normal distribution. "
   ]
  },
  {
   "cell_type": "markdown",
   "id": "d6966832",
   "metadata": {},
   "source": [
    "## 5. Based on the work you've done, choose a scaling method for your dataset. Write a function within your prepare.py that accepts as input the train, validate, and test data splits, and returns the scaled versions of each. Be sure to only learn the parameters for scaling from your training data!"
   ]
  },
  {
   "cell_type": "code",
   "execution_count": 54,
   "id": "f55fc362",
   "metadata": {},
   "outputs": [],
   "source": [
    "def scale_data(train, validate, test, return_scaler=False):\n",
    "    '''\n",
    "    Scales the 3 data splits.\n",
    "    \n",
    "    takes in the train, validate, and test data splits and returns their scaled counterparts.\n",
    "    \n",
    "    If return_scaler is true, the scaler object will be returned as well.\n",
    "    '''\n",
    "    columns_to_scale = ['bedrooms', 'bathrooms', 'tax_value', 'taxamount', 'area']\n",
    "    \n",
    "    train_scaled = train.copy()\n",
    "    validate_scaled = validate.copy()\n",
    "    test_scaled = test.copy()\n",
    "    \n",
    "    scaler = MinMaxScaler()\n",
    "    scaler.fit(train[columns_to_scale])\n",
    "    \n",
    "    train_scaled[columns_to_scale] = scaler.transform(train[columns_to_scale])\n",
    "    validate_scaled[columns_to_scale] = scaler.transform(validate[columns_to_scale])\n",
    "    test_scaled[columns_to_scale] = scaler.transform(test[columns_to_scale])\n",
    "    \n",
    "    if return_scaler:\n",
    "        return scaler, train_scaled, validate_scaled, test_scaled\n",
    "    else:\n",
    "        return train_scaled, validate_scaled, test_scaled"
   ]
  },
  {
   "cell_type": "code",
   "execution_count": null,
   "id": "ed062721",
   "metadata": {},
   "outputs": [],
   "source": []
  }
 ],
 "metadata": {
  "kernelspec": {
   "display_name": "Python 3 (ipykernel)",
   "language": "python",
   "name": "python3"
  },
  "language_info": {
   "codemirror_mode": {
    "name": "ipython",
    "version": 3
   },
   "file_extension": ".py",
   "mimetype": "text/x-python",
   "name": "python",
   "nbconvert_exporter": "python",
   "pygments_lexer": "ipython3",
   "version": "3.9.7"
  }
 },
 "nbformat": 4,
 "nbformat_minor": 5
}
